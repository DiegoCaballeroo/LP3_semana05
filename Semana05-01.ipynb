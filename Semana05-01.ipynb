{
 "cells": [
  {
   "cell_type": "raw",
   "id": "59ddb227",
   "metadata": {},
   "source": [
    "Temas\n",
    "1. Coleccion de datos\n",
    "2. Estructuras decisivas y estructuras repetitivas\n",
    "3. Clases de funciones\n",
    "4. Clases y objetos"
   ]
  },
  {
   "cell_type": "raw",
   "id": "36fed41c",
   "metadata": {},
   "source": [
    "Coleccion de datos"
   ]
  },
  {
   "cell_type": "code",
   "execution_count": 1,
   "id": "3dd02bc2",
   "metadata": {},
   "outputs": [],
   "source": [
    "aula = [\"Huertas\", \"Fernandez\", \"Caballero\"]"
   ]
  },
  {
   "cell_type": "code",
   "execution_count": 2,
   "id": "8bda7705",
   "metadata": {},
   "outputs": [
    {
     "data": {
      "text/plain": [
       "['Huertas', 'Fernandez', 'Caballero']"
      ]
     },
     "execution_count": 2,
     "metadata": {},
     "output_type": "execute_result"
    }
   ],
   "source": [
    "aula"
   ]
  },
  {
   "cell_type": "code",
   "execution_count": 3,
   "id": "01322c49",
   "metadata": {},
   "outputs": [
    {
     "name": "stdout",
     "output_type": "stream",
     "text": [
      "['Huertas', 'Fernandez', 'Caballero']\n"
     ]
    }
   ],
   "source": [
    "print(aula)"
   ]
  },
  {
   "cell_type": "code",
   "execution_count": 6,
   "id": "b4c01818",
   "metadata": {},
   "outputs": [],
   "source": [
    "aula.append(\"Mamani\")\n",
    "aula.append(\"Bonifacio\")"
   ]
  },
  {
   "cell_type": "code",
   "execution_count": 7,
   "id": "b7c7500b",
   "metadata": {},
   "outputs": [
    {
     "data": {
      "text/plain": [
       "['Huertas', 'Fernandez', 'Caballero', 'Mamani', 'Mamani', 'Bonifacio']"
      ]
     },
     "execution_count": 7,
     "metadata": {},
     "output_type": "execute_result"
    }
   ],
   "source": [
    "aula"
   ]
  },
  {
   "cell_type": "code",
   "execution_count": 16,
   "id": "049930ba",
   "metadata": {},
   "outputs": [
    {
     "data": {
      "text/plain": [
       "['Fernandez', 'Caballero', 'Mamani', 'Bonifacio']"
      ]
     },
     "execution_count": 16,
     "metadata": {},
     "output_type": "execute_result"
    }
   ],
   "source": [
    "aula.remove('Mamani')\n",
    "aula"
   ]
  },
  {
   "cell_type": "code",
   "execution_count": 17,
   "id": "bc43c987",
   "metadata": {},
   "outputs": [
    {
     "data": {
      "text/plain": [
       "['Bonifacio', 'Caballero', 'Fernandez', 'Mamani']"
      ]
     },
     "execution_count": 17,
     "metadata": {},
     "output_type": "execute_result"
    }
   ],
   "source": [
    "aula.sort()\n",
    "aula"
   ]
  },
  {
   "cell_type": "code",
   "execution_count": 19,
   "id": "69d896f9",
   "metadata": {},
   "outputs": [],
   "source": [
    "#1.2. Tuplas\n",
    "#es una coleccions de elementos ordenado (ordenado significa que tiene un indice)\n",
    "#se identifica por los parantesis"
   ]
  },
  {
   "cell_type": "code",
   "execution_count": 20,
   "id": "8cf05406",
   "metadata": {},
   "outputs": [],
   "source": [
    "#1.3. Conjuntos \n",
    "#es una coleccion de elementos que estas endexados "
   ]
  },
  {
   "cell_type": "code",
   "execution_count": 21,
   "id": "a031f2a6",
   "metadata": {},
   "outputs": [],
   "source": [
    "# 1.5. Ejercicio\n",
    "# Dado una lista de [AMES, ARTEAGA , BARRIOS , BONIFACIO, BRAVO, CABALLERO , CAÑAZACA, FERNANDEZ , FLORES , GARCIA , HERRERA , HUERTA , HUERTAS, JIMENEZ , MAMANI , MANCILLA, PABLO , PAYE , PEÑA , PIZANGO, RAMOS, SANCHEZ,SEVILLANO, TINOCO, TORRES , VALDIVIESO, VELEZ , VILLANUEVA , ZUÑIGA]\n",
    "# Diseñar un código que muestre si el apellido de un estudiante (Ingresado por teclado) forma parte de la lista\n",
    "# tiempo: 12 minutos"
   ]
  },
  {
   "cell_type": "code",
   "execution_count": 24,
   "id": "3b9f48ae",
   "metadata": {},
   "outputs": [
    {
     "name": "stdout",
     "output_type": "stream",
     "text": [
      "Apellido: sema\n",
      "sema no forma parte de la lista.\n"
     ]
    }
   ],
   "source": [
    "# Lista de apellidos\n",
    "list_ape = ['AMES', 'ARTEAGA', 'BARRIOS', 'BONIFACIO', 'BRAVO', 'CABALLERO', 'CAÑAZACA', 'FERNANDEZ', 'FLORES', 'GARCIA', 'HERRERA', 'HUERTA', 'HUERTAS', 'JIMENEZ', 'MAMANI', 'MANCILLA', 'PABLO', 'PAYE', 'PEÑA', 'PIZANGO', 'RAMOS', 'SANCHEZ', 'SEVILLANO', 'TINOCO', 'TORRES', 'VALDIVIESO', 'VELEZ', 'VILLANUEVA', 'ZUÑIGA']\n",
    "\n",
    "# Ingresar apellido por teclado\n",
    "apellido = input(\"Apellido: \")\n",
    "\n",
    "# Verificar si el apellido está en la lista\n",
    "if apellido.upper() in list_ape:\n",
    "    print(apellido, \"forma parte de la lista.\")\n",
    "else:\n",
    "    print(apellido, \"no forma parte de la lista.\")"
   ]
  },
  {
   "cell_type": "code",
   "execution_count": null,
   "id": "a51a8fd4",
   "metadata": {},
   "outputs": [],
   "source": []
  }
 ],
 "metadata": {
  "kernelspec": {
   "display_name": "Python 3 (ipykernel)",
   "language": "python",
   "name": "python3"
  },
  "language_info": {
   "codemirror_mode": {
    "name": "ipython",
    "version": 3
   },
   "file_extension": ".py",
   "mimetype": "text/x-python",
   "name": "python",
   "nbconvert_exporter": "python",
   "pygments_lexer": "ipython3",
   "version": "3.9.12"
  }
 },
 "nbformat": 4,
 "nbformat_minor": 5
}
