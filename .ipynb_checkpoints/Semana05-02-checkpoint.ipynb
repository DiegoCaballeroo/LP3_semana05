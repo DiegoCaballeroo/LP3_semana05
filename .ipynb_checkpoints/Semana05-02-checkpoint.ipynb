{
 "cells": [
  {
   "cell_type": "raw",
   "id": "8215cf56",
   "metadata": {},
   "source": [
    "Temas\n",
    "1. Coleccion de datos\n",
    "2. Estructuras decisivas y estructuras repetitivas\n",
    "3. Clases de funciones\n",
    "4. Funciones"
   ]
  },
  {
   "cell_type": "raw",
   "id": "6830f29f",
   "metadata": {},
   "source": [
    "Coleccion de datos"
   ]
  },
  {
   "cell_type": "code",
   "execution_count": 1,
   "id": "817e2b79",
   "metadata": {},
   "outputs": [],
   "source": [
    "#2.1 Estructuras decisivas (if,elif,else)"
   ]
  },
  {
   "cell_type": "code",
   "execution_count": 2,
   "id": "695973de",
   "metadata": {},
   "outputs": [],
   "source": [
    "#if\n",
    "#Problema: Dado el precio de 3 productos ingresados por el teclado,\n",
    "#aplicar un descuento del 10% si la venta es mayor o igual a 1000"
   ]
  },
  {
   "cell_type": "code",
   "execution_count": 4,
   "id": "5780dfd6",
   "metadata": {},
   "outputs": [
    {
     "name": "stdout",
     "output_type": "stream",
     "text": [
      "Producto 1:300\n",
      "Producto 2:300\n",
      "Producto 3:400\n",
      "El total a pagar es: 900.0\n"
     ]
    }
   ],
   "source": [
    "#Solucion\n",
    "P1 = float(input(\"Producto 1:\"))\n",
    "P2 = float(input(\"Producto 2:\"))\n",
    "P3 = float(input(\"Producto 3:\"))\n",
    "total = P1 + P2 + P3\n",
    "if total >= 1000:\n",
    "    total*=0.9\n",
    "print(f\"El total a pagar es: {total}\")"
   ]
  },
  {
   "cell_type": "code",
   "execution_count": 5,
   "id": "62a5fb14",
   "metadata": {},
   "outputs": [],
   "source": [
    "#Problema 02\n",
    "#Dado el importe total en ventas realizadas por un trabajador\n",
    "#(ingresado por teclado, categorizar que tipo de empleado es,\n",
    "#considerando la siguiente tabla:\n",
    "#Categoria: A -> [0,1000]\n",
    "#Categoria: B -> <1000,2000]\n",
    "#Categoria: C -> <2000,3000]\n",
    "#Categoria: D -> <3000,4000]"
   ]
  },
  {
   "cell_type": "code",
   "execution_count": 8,
   "id": "67c9bd87",
   "metadata": {},
   "outputs": [
    {
     "ename": "IndentationError",
     "evalue": "unindent does not match any outer indentation level (<tokenize>, line 7)",
     "output_type": "error",
     "traceback": [
      "\u001b[1;36m  File \u001b[1;32m<tokenize>:7\u001b[1;36m\u001b[0m\n\u001b[1;33m    elif ventas <= 2000:\u001b[0m\n\u001b[1;37m    ^\u001b[0m\n\u001b[1;31mIndentationError\u001b[0m\u001b[1;31m:\u001b[0m unindent does not match any outer indentation level\n"
     ]
    }
   ],
   "source": [
    "#solucion\n",
    "ventas = float(input(\"Importe de ventas realizado: \"))\n",
    "if ventas < 0:\n",
    "    print(\"Datos erroneos: \")\n",
    "elif ventas <= 1000:\n",
    "        print(\"Categoria A\")\n",
    "    elif ventas <= 2000:\n",
    "            print(\"Categoria B\")\n",
    "        elif ventas <= 3000:\n",
    "                print (\"Categoria C\")\n",
    "            elif ventas <= 4000:\n",
    "                    print(\"Categoria D\")\n",
    "                else: \n",
    "                    print(\"No existe categoria\")"
   ]
  },
  {
   "cell_type": "code",
   "execution_count": null,
   "id": "a80cd3d6",
   "metadata": {},
   "outputs": [],
   "source": []
  }
 ],
 "metadata": {
  "kernelspec": {
   "display_name": "Python 3 (ipykernel)",
   "language": "python",
   "name": "python3"
  },
  "language_info": {
   "codemirror_mode": {
    "name": "ipython",
    "version": 3
   },
   "file_extension": ".py",
   "mimetype": "text/x-python",
   "name": "python",
   "nbconvert_exporter": "python",
   "pygments_lexer": "ipython3",
   "version": "3.9.12"
  }
 },
 "nbformat": 4,
 "nbformat_minor": 5
}
