{
 "cells": [
  {
   "cell_type": "raw",
   "id": "f535f13d",
   "metadata": {},
   "source": [
    "Temas\n",
    "1. Coleccion de datos\n",
    "2. Estructuras decisivas y estructuras repetitivas\n",
    "3. Clases de funciones\n",
    "4. Clases y objetos"
   ]
  },
  {
   "cell_type": "code",
   "execution_count": 4,
   "id": "eb53c36e",
   "metadata": {},
   "outputs": [],
   "source": [
    "class Persona:\n",
    "    nombre=\"\"\n",
    "    apellidos=\"\"\n",
    "    dni=\"\"\n",
    "    talla=0"
   ]
  },
  {
   "cell_type": "code",
   "execution_count": 5,
   "id": "c6662142",
   "metadata": {},
   "outputs": [],
   "source": [
    "persona1=Persona()"
   ]
  },
  {
   "cell_type": "code",
   "execution_count": 6,
   "id": "19997923",
   "metadata": {},
   "outputs": [],
   "source": [
    "#asiganmos valores al objeto\n",
    "persona1.nombre = \"Dharma\"\n",
    "persona1.apellidos = \"Bonifacio\"\n",
    "persona1.dni = \"12345678\"\n",
    "persona1.talla = 1.68"
   ]
  },
  {
   "cell_type": "code",
   "execution_count": 7,
   "id": "12d7392f",
   "metadata": {},
   "outputs": [
    {
     "name": "stdout",
     "output_type": "stream",
     "text": [
      "persona1\n",
      "Nombre: Dharma\n",
      "Apellidos: Bonifacio\n",
      "DNI: 12345678\n",
      "Talla: 1.68\n"
     ]
    }
   ],
   "source": [
    "print(\"persona1\")\n",
    "print(f\"Nombre: {persona1.nombre}\")\n",
    "print(f\"Apellidos: {persona1.apellidos}\")\n",
    "print(f\"DNI: {persona1.dni}\")\n",
    "print(f\"Talla: {persona1.talla}\")\n"
   ]
  },
  {
   "cell_type": "code",
   "execution_count": 14,
   "id": "a5aacfac",
   "metadata": {},
   "outputs": [],
   "source": [
    "class curso:\n",
    "    def __init__(self, codigo, nombre, horas, creditos):\n",
    "        self.codigo = codigo\n",
    "        self.nombre = nombre\n",
    "        self.horas = horas\n",
    "        self.creditos = creditos\n",
    "    \n",
    "    def mostrar_datos_curso(self):\n",
    "        print(f\"Curso: {self.nombre}\")\n",
    "        print(f\"Codigo: {self.codigo}\")\n",
    "        print(f\"Horas: {self.horas}\")\n",
    "        print(f\"Creditos: {self.creditos}\")"
   ]
  },
  {
   "cell_type": "code",
   "execution_count": 15,
   "id": "bce45f59",
   "metadata": {},
   "outputs": [],
   "source": [
    "curso1 = curso(\"LP013\",\"LP3\",6,4)"
   ]
  },
  {
   "cell_type": "code",
   "execution_count": 16,
   "id": "1ce5a23f",
   "metadata": {},
   "outputs": [
    {
     "name": "stdout",
     "output_type": "stream",
     "text": [
      "Curso: LP3\n",
      "Codigo: LP013\n",
      "Horas: 6\n",
      "Creditos: 4\n"
     ]
    }
   ],
   "source": [
    "curso1.mostrar_datos_curso()"
   ]
  },
  {
   "cell_type": "code",
   "execution_count": null,
   "id": "d9b6ad07",
   "metadata": {},
   "outputs": [],
   "source": []
  }
 ],
 "metadata": {
  "kernelspec": {
   "display_name": "Python 3 (ipykernel)",
   "language": "python",
   "name": "python3"
  },
  "language_info": {
   "codemirror_mode": {
    "name": "ipython",
    "version": 3
   },
   "file_extension": ".py",
   "mimetype": "text/x-python",
   "name": "python",
   "nbconvert_exporter": "python",
   "pygments_lexer": "ipython3",
   "version": "3.9.12"
  }
 },
 "nbformat": 4,
 "nbformat_minor": 5
}
