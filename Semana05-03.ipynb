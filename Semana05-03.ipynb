{
 "cells": [
  {
   "cell_type": "raw",
   "id": "135fe7a6",
   "metadata": {},
   "source": [
    "Temas\n",
    "1. Coleccion de datos\n",
    "2. Estructuras decisivas y estructuras repetitivas\n",
    "3. Clases de funciones\n",
    "4. Clases y objetos"
   ]
  },
  {
   "cell_type": "code",
   "execution_count": 1,
   "id": "356f1962",
   "metadata": {},
   "outputs": [],
   "source": [
    "#3.1 Métodos vacíos\n",
    "#Explicación: No recibe valores(Parámetros)"
   ]
  },
  {
   "cell_type": "code",
   "execution_count": 2,
   "id": "482fa210",
   "metadata": {},
   "outputs": [],
   "source": [
    "def saludo():\n",
    "    print(\"Bienvenidos al curso de LP3:\")\n",
    "    print(\"***********Python***********\")"
   ]
  },
  {
   "cell_type": "code",
   "execution_count": 3,
   "id": "430ee67a",
   "metadata": {},
   "outputs": [
    {
     "name": "stdout",
     "output_type": "stream",
     "text": [
      "Bienvenidos al curso de LP3:\n",
      "***********Python***********\n"
     ]
    }
   ],
   "source": [
    "saludo()"
   ]
  },
  {
   "cell_type": "code",
   "execution_count": 4,
   "id": "22b76378",
   "metadata": {},
   "outputs": [],
   "source": [
    "#3.2 Métodos q reciben valores"
   ]
  },
  {
   "cell_type": "code",
   "execution_count": 6,
   "id": "c64ab9bc",
   "metadata": {},
   "outputs": [],
   "source": [
    "def factorial(numero):\n",
    "    fac = 1\n",
    "    for i in range(1,numero+1):\n",
    "        fac*=i\n",
    "    print(f\"El factorial es: {fac}\")"
   ]
  },
  {
   "cell_type": "code",
   "execution_count": 10,
   "id": "4521f3e5",
   "metadata": {},
   "outputs": [
    {
     "name": "stdout",
     "output_type": "stream",
     "text": [
      "Ingrese numero: 7\n",
      "El factorial es: 5040\n"
     ]
    }
   ],
   "source": [
    "numero = int(input(\"Ingrese numero: \"))\n",
    "factorial(numero)"
   ]
  },
  {
   "cell_type": "code",
   "execution_count": 9,
   "id": "71bd48cb",
   "metadata": {},
   "outputs": [],
   "source": [
    "#3.3 Métodos que reciben valores"
   ]
  },
  {
   "cell_type": "code",
   "execution_count": 13,
   "id": "b96d1f20",
   "metadata": {},
   "outputs": [],
   "source": [
    "def saludo2():\n",
    "    mensaje = \"Bienvenidos a LP3\"\n",
    "    return mensaje"
   ]
  },
  {
   "cell_type": "code",
   "execution_count": 14,
   "id": "6e132e15",
   "metadata": {},
   "outputs": [
    {
     "data": {
      "text/plain": [
       "'Bienvenidos a LP3'"
      ]
     },
     "execution_count": 14,
     "metadata": {},
     "output_type": "execute_result"
    }
   ],
   "source": [
    "saludo2()"
   ]
  },
  {
   "cell_type": "code",
   "execution_count": 15,
   "id": "1c16f754",
   "metadata": {},
   "outputs": [],
   "source": [
    "#3.4 Métodos que reciben y devuelven valores"
   ]
  },
  {
   "cell_type": "code",
   "execution_count": 20,
   "id": "64513093",
   "metadata": {},
   "outputs": [],
   "source": [
    "def factorial2(numero):\n",
    "    fac = 1\n",
    "    for i in range(1,numero+1):\n",
    "        fac*=i\n",
    "    return fac"
   ]
  },
  {
   "cell_type": "code",
   "execution_count": 21,
   "id": "2b8bcfb9",
   "metadata": {},
   "outputs": [
    {
     "name": "stdout",
     "output_type": "stream",
     "text": [
      "Numero: 4\n",
      "El factorial de 4 es 24\n"
     ]
    }
   ],
   "source": [
    "numero=int(input(\"Numero: \"))\n",
    "print(f\"El factorial de {numero} es {factorial2(numero)}\")"
   ]
  },
  {
   "cell_type": "code",
   "execution_count": 22,
   "id": "3a128369",
   "metadata": {},
   "outputs": [],
   "source": [
    "#Otro ejemplo \n",
    "#Calcular el IGV \n",
    "def obtenetigv(importe):\n",
    "    return importe*0.8"
   ]
  },
  {
   "cell_type": "code",
   "execution_count": 24,
   "id": "c16bb686",
   "metadata": {},
   "outputs": [
    {
     "data": {
      "text/plain": [
       "64.0"
      ]
     },
     "execution_count": 24,
     "metadata": {},
     "output_type": "execute_result"
    }
   ],
   "source": [
    "obtenetigv(80)"
   ]
  },
  {
   "cell_type": "code",
   "execution_count": null,
   "id": "94c7c147",
   "metadata": {},
   "outputs": [],
   "source": []
  }
 ],
 "metadata": {
  "kernelspec": {
   "display_name": "Python 3 (ipykernel)",
   "language": "python",
   "name": "python3"
  },
  "language_info": {
   "codemirror_mode": {
    "name": "ipython",
    "version": 3
   },
   "file_extension": ".py",
   "mimetype": "text/x-python",
   "name": "python",
   "nbconvert_exporter": "python",
   "pygments_lexer": "ipython3",
   "version": "3.9.12"
  }
 },
 "nbformat": 4,
 "nbformat_minor": 5
}
