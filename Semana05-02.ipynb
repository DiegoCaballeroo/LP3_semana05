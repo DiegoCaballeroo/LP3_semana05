{
 "cells": [
  {
   "cell_type": "raw",
   "id": "56627239",
   "metadata": {},
   "source": [
    "Temas\n",
    "1. Coleccion de datos\n",
    "2. Estructuras decisivas y estructuras repetitivas\n",
    "3. Clases de funciones\n",
    "4. Clases y objetos"
   ]
  },
  {
   "cell_type": "raw",
   "id": "c832d9af",
   "metadata": {},
   "source": []
  },
  {
   "cell_type": "code",
   "execution_count": 1,
   "id": "acf7f7f4",
   "metadata": {},
   "outputs": [],
   "source": [
    "#2.1 Estructuras decisivas (if,elif,else)"
   ]
  },
  {
   "cell_type": "code",
   "execution_count": 2,
   "id": "09948056",
   "metadata": {},
   "outputs": [],
   "source": [
    "#if\n",
    "#Problema: Dado el precio de 3 productos ingresados por el teclado,\n",
    "#aplicar un descuento del 10% si la venta es mayor o igual a 1000"
   ]
  },
  {
   "cell_type": "code",
   "execution_count": 4,
   "id": "1637b6a8",
   "metadata": {},
   "outputs": [
    {
     "name": "stdout",
     "output_type": "stream",
     "text": [
      "Producto 1:300\n",
      "Producto 2:300\n",
      "Producto 3:400\n",
      "El total a pagar es: 900.0\n"
     ]
    }
   ],
   "source": [
    "#Solucion\n",
    "P1 = float(input(\"Producto 1:\"))\n",
    "P2 = float(input(\"Producto 2:\"))\n",
    "P3 = float(input(\"Producto 3:\"))\n",
    "total = P1 + P2 + P3\n",
    "if total >= 1000:\n",
    "    total*=0.9\n",
    "print(f\"El total a pagar es: {total}\")"
   ]
  },
  {
   "cell_type": "code",
   "execution_count": 5,
   "id": "9dd7c97f",
   "metadata": {},
   "outputs": [],
   "source": [
    "#Problema 02\n",
    "#Dado el importe total en ventas realizadas por un trabajador\n",
    "#(ingresado por teclado, categorizar que tipo de empleado es,\n",
    "#considerando la siguiente tabla:\n",
    "#Categoria: A -> [0,1000]\n",
    "#Categoria: B -> <1000,2000]\n",
    "#Categoria: C -> <2000,3000]\n",
    "#Categoria: D -> <3000,4000]"
   ]
  },
  {
   "cell_type": "code",
   "execution_count": 9,
   "id": "75608b03",
   "metadata": {},
   "outputs": [
    {
     "name": "stdout",
     "output_type": "stream",
     "text": [
      "Importe de ventas realizado: 500\n",
      "Categoria A\n"
     ]
    }
   ],
   "source": [
    "#solucion\n",
    "ventas = float(input(\"Importe de ventas realizado: \"))\n",
    "if ventas < 0:\n",
    "    print(\"Datos erroneos: \")\n",
    "elif ventas <= 1000:\n",
    "    print(\"Categoria A\") \n",
    "elif ventas <= 2000:\n",
    "    print(\"Categoria B\")\n",
    "elif ventas <= 3000:\n",
    "    print (\"Categoria C\")\n",
    "elif ventas <= 4000:\n",
    "    print(\"Categoria D\")\n",
    "else: \n",
    "    print(\"No existe categoria\")"
   ]
  },
  {
   "cell_type": "code",
   "execution_count": 10,
   "id": "d028f771",
   "metadata": {},
   "outputs": [],
   "source": [
    "#2.2. Estructuras repetitivas\n",
    "#for"
   ]
  },
  {
   "cell_type": "code",
   "execution_count": 11,
   "id": "197bd5d1",
   "metadata": {},
   "outputs": [],
   "source": [
    "#Problema 01 \n",
    "#Mostrar los elementos de una lista utilizando for"
   ]
  },
  {
   "cell_type": "code",
   "execution_count": 14,
   "id": "b32f59a6",
   "metadata": {},
   "outputs": [
    {
     "name": "stdout",
     "output_type": "stream",
     "text": [
      "Barrios\n",
      "Sevillano\n",
      "Zuñiga\n",
      "Paye\n"
     ]
    }
   ],
   "source": [
    "#Solucion \n",
    "aula = ['Barrios', 'Sevillano', 'Zuñiga', 'Paye']\n",
    "for alumno in aula:\n",
    "    print(alumno)"
   ]
  },
  {
   "cell_type": "code",
   "execution_count": 15,
   "id": "b9aed482",
   "metadata": {},
   "outputs": [
    {
     "name": "stdout",
     "output_type": "stream",
     "text": [
      "Ingrese cadena: Diego Jeremy Caballero Villazana\n",
      "D\n",
      "i\n",
      "e\n",
      "g\n",
      "o\n",
      " \n",
      "J\n",
      "e\n",
      "r\n",
      "e\n",
      "m\n",
      "y\n",
      " \n",
      "C\n",
      "a\n",
      "b\n",
      "a\n",
      "l\n",
      "l\n",
      "e\n",
      "r\n",
      "o\n",
      " \n",
      "V\n",
      "i\n",
      "l\n",
      "l\n",
      "a\n",
      "z\n",
      "a\n",
      "n\n",
      "a\n"
     ]
    }
   ],
   "source": [
    "cadena = input(\"Ingrese cadena: \")\n",
    "for caracter in cadena:\n",
    "    print(caracter)"
   ]
  },
  {
   "cell_type": "code",
   "execution_count": 16,
   "id": "01e41c11",
   "metadata": {},
   "outputs": [
    {
     "data": {
      "text/plain": [
       "range(0, 5)"
      ]
     },
     "execution_count": 16,
     "metadata": {},
     "output_type": "execute_result"
    }
   ],
   "source": [
    "range(5)"
   ]
  },
  {
   "cell_type": "code",
   "execution_count": 17,
   "id": "2647319c",
   "metadata": {},
   "outputs": [
    {
     "name": "stdout",
     "output_type": "stream",
     "text": [
      "5\n",
      "6\n",
      "7\n",
      "8\n",
      "9\n",
      "10\n"
     ]
    }
   ],
   "source": [
    "for numero in range(5,11):\n",
    "    print(numero)"
   ]
  },
  {
   "cell_type": "code",
   "execution_count": 18,
   "id": "f8b200ee",
   "metadata": {},
   "outputs": [
    {
     "name": "stdout",
     "output_type": "stream",
     "text": [
      "10\n",
      "13\n",
      "16\n",
      "19\n",
      "22\n",
      "25\n",
      "28\n"
     ]
    }
   ],
   "source": [
    "for numero in range(10,30,3):\n",
    "    print(numero)"
   ]
  },
  {
   "cell_type": "code",
   "execution_count": 19,
   "id": "f2aeae3e",
   "metadata": {},
   "outputs": [],
   "source": [
    "#while\n",
    "#Permite ejectuar un conjunto de acciones mientras se cumpla una condicion "
   ]
  },
  {
   "cell_type": "code",
   "execution_count": 21,
   "id": "4226fd6f",
   "metadata": {},
   "outputs": [
    {
     "name": "stdout",
     "output_type": "stream",
     "text": [
      "3\n",
      "7\n",
      "11\n",
      "15\n",
      "19\n",
      "23\n",
      "27\n",
      "31\n",
      "35\n",
      "39\n",
      "43\n",
      "47\n"
     ]
    }
   ],
   "source": [
    "#Ejemplo\n",
    "numero=3\n",
    "fin=50\n",
    "while numero <= fin:\n",
    "    print(numero)\n",
    "    numero+=4"
   ]
  },
  {
   "cell_type": "code",
   "execution_count": null,
   "id": "5b29ebf3",
   "metadata": {},
   "outputs": [],
   "source": []
  }
 ],
 "metadata": {
  "kernelspec": {
   "display_name": "Python 3 (ipykernel)",
   "language": "python",
   "name": "python3"
  },
  "language_info": {
   "codemirror_mode": {
    "name": "ipython",
    "version": 3
   },
   "file_extension": ".py",
   "mimetype": "text/x-python",
   "name": "python",
   "nbconvert_exporter": "python",
   "pygments_lexer": "ipython3",
   "version": "3.9.12"
  }
 },
 "nbformat": 4,
 "nbformat_minor": 5
}
